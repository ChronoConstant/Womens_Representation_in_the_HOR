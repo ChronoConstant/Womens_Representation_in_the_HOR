{
  "nbformat": 4,
  "nbformat_minor": 0,
  "metadata": {
    "colab": {
      "name": "WomeninHOR.ipynb",
      "provenance": [],
      "collapsed_sections": [],
      "mount_file_id": "1gW1yTh4ifdZiq7AXsuSc3VLCPDAYsHMu",
      "authorship_tag": "ABX9TyOeG7iUnEpKvnzuv4448JXy"
    },
    "kernelspec": {
      "name": "python3",
      "display_name": "Python 3"
    },
    "language_info": {
      "name": "python"
    }
  },
  "cells": [
    {
      "cell_type": "code",
      "metadata": {
        "id": "SNYoUYpTNSFS"
      },
      "source": [
        "import pandas as pd\n",
        "import numpy as np\n",
        "import matplotlib.pyplot as plt\n"
      ],
      "execution_count": 113,
      "outputs": []
    },
    {
      "cell_type": "code",
      "metadata": {
        "colab": {
          "base_uri": "https://localhost:8080/",
          "height": 203
        },
        "id": "49Q0fnBvNt9j",
        "outputId": "66aef060-c0d3-43bd-91c2-b843ca956d25"
      },
      "source": [
        "women_house = '/content/drive/MyDrive/Coding_Dojo/Data_for_Class/Women in the House of Representatives.xlsx'\n",
        "df_womenrep = pd.read_excel(women_house)\n",
        "df_womenrep.head()"
      ],
      "execution_count": 114,
      "outputs": [
        {
          "output_type": "execute_result",
          "data": {
            "text/html": [
              "<div>\n",
              "<style scoped>\n",
              "    .dataframe tbody tr th:only-of-type {\n",
              "        vertical-align: middle;\n",
              "    }\n",
              "\n",
              "    .dataframe tbody tr th {\n",
              "        vertical-align: top;\n",
              "    }\n",
              "\n",
              "    .dataframe thead th {\n",
              "        text-align: right;\n",
              "    }\n",
              "</style>\n",
              "<table border=\"1\" class=\"dataframe\">\n",
              "  <thead>\n",
              "    <tr style=\"text-align: right;\">\n",
              "      <th></th>\n",
              "      <th>Congress</th>\n",
              "      <th>Years</th>\n",
              "      <th>Women total</th>\n",
              "      <th>Republican</th>\n",
              "      <th>% of women (Rep)</th>\n",
              "      <th>% of party (Rep)</th>\n",
              "      <th>Democratic</th>\n",
              "      <th>% of women (Dem)</th>\n",
              "      <th>% of party (Dem)</th>\n",
              "    </tr>\n",
              "  </thead>\n",
              "  <tbody>\n",
              "    <tr>\n",
              "      <th>0</th>\n",
              "      <td>65th</td>\n",
              "      <td>1917–1919</td>\n",
              "      <td>1</td>\n",
              "      <td>1</td>\n",
              "      <td>1.000</td>\n",
              "      <td>0.005</td>\n",
              "      <td>0</td>\n",
              "      <td>0.000</td>\n",
              "      <td>0.000</td>\n",
              "    </tr>\n",
              "    <tr>\n",
              "      <th>1</th>\n",
              "      <td>66th</td>\n",
              "      <td>1919–1921</td>\n",
              "      <td>0</td>\n",
              "      <td>0</td>\n",
              "      <td>0.000</td>\n",
              "      <td>0.000</td>\n",
              "      <td>0</td>\n",
              "      <td>0.000</td>\n",
              "      <td>0.000</td>\n",
              "    </tr>\n",
              "    <tr>\n",
              "      <th>2</th>\n",
              "      <td>67th</td>\n",
              "      <td>1921–1923</td>\n",
              "      <td>3</td>\n",
              "      <td>3</td>\n",
              "      <td>1.000</td>\n",
              "      <td>0.003</td>\n",
              "      <td>0</td>\n",
              "      <td>0.000</td>\n",
              "      <td>0.000</td>\n",
              "    </tr>\n",
              "    <tr>\n",
              "      <th>3</th>\n",
              "      <td>68th</td>\n",
              "      <td>1923–1925</td>\n",
              "      <td>1</td>\n",
              "      <td>1</td>\n",
              "      <td>1.000</td>\n",
              "      <td>0.004</td>\n",
              "      <td>0</td>\n",
              "      <td>0.000</td>\n",
              "      <td>0.000</td>\n",
              "    </tr>\n",
              "    <tr>\n",
              "      <th>4</th>\n",
              "      <td>69th</td>\n",
              "      <td>1925–1927</td>\n",
              "      <td>3</td>\n",
              "      <td>2</td>\n",
              "      <td>0.667</td>\n",
              "      <td>0.004</td>\n",
              "      <td>1</td>\n",
              "      <td>0.333</td>\n",
              "      <td>0.005</td>\n",
              "    </tr>\n",
              "  </tbody>\n",
              "</table>\n",
              "</div>"
            ],
            "text/plain": [
              "  Congress      Years  ...  % of women (Dem)  % of party (Dem)\n",
              "0     65th  1917–1919  ...             0.000             0.000\n",
              "1     66th  1919–1921  ...             0.000             0.000\n",
              "2     67th  1921–1923  ...             0.000             0.000\n",
              "3     68th  1923–1925  ...             0.000             0.000\n",
              "4     69th  1925–1927  ...             0.333             0.005\n",
              "\n",
              "[5 rows x 9 columns]"
            ]
          },
          "metadata": {
            "tags": []
          },
          "execution_count": 114
        }
      ]
    },
    {
      "cell_type": "code",
      "metadata": {
        "colab": {
          "base_uri": "https://localhost:8080/"
        },
        "id": "4rq2CSpgQ9XF",
        "outputId": "7d633f18-cd3a-4e8d-b6cd-b7dd8f4c36d6"
      },
      "source": [
        "df_womenrep.info()"
      ],
      "execution_count": 115,
      "outputs": [
        {
          "output_type": "stream",
          "text": [
            "<class 'pandas.core.frame.DataFrame'>\n",
            "RangeIndex: 51 entries, 0 to 50\n",
            "Data columns (total 9 columns):\n",
            " #   Column            Non-Null Count  Dtype  \n",
            "---  ------            --------------  -----  \n",
            " 0   Congress          51 non-null     object \n",
            " 1   Years             51 non-null     object \n",
            " 2   Women total       51 non-null     int64  \n",
            " 3   Republican        51 non-null     int64  \n",
            " 4   % of women (Rep)  51 non-null     float64\n",
            " 5   % of party (Rep)  51 non-null     float64\n",
            " 6   Democratic        51 non-null     int64  \n",
            " 7   % of women (Dem)  51 non-null     float64\n",
            " 8   % of party (Dem)  51 non-null     float64\n",
            "dtypes: float64(4), int64(3), object(2)\n",
            "memory usage: 3.7+ KB\n"
          ],
          "name": "stdout"
        }
      ]
    },
    {
      "cell_type": "code",
      "metadata": {
        "colab": {
          "base_uri": "https://localhost:8080/",
          "height": 203
        },
        "id": "cTLIdWDsOIDW",
        "outputId": "293a746e-0a91-4e89-a42f-84a3fd1490d3"
      },
      "source": [
        "#filter out all data before the 91st session of congress. The disparities were less pronounced here but I wanted the show the super slow progress.\n",
        "df_womenrep = df_womenrep.iloc[26:]\n",
        "df_womenrep.head(5)"
      ],
      "execution_count": 116,
      "outputs": [
        {
          "output_type": "execute_result",
          "data": {
            "text/html": [
              "<div>\n",
              "<style scoped>\n",
              "    .dataframe tbody tr th:only-of-type {\n",
              "        vertical-align: middle;\n",
              "    }\n",
              "\n",
              "    .dataframe tbody tr th {\n",
              "        vertical-align: top;\n",
              "    }\n",
              "\n",
              "    .dataframe thead th {\n",
              "        text-align: right;\n",
              "    }\n",
              "</style>\n",
              "<table border=\"1\" class=\"dataframe\">\n",
              "  <thead>\n",
              "    <tr style=\"text-align: right;\">\n",
              "      <th></th>\n",
              "      <th>Congress</th>\n",
              "      <th>Years</th>\n",
              "      <th>Women total</th>\n",
              "      <th>Republican</th>\n",
              "      <th>% of women (Rep)</th>\n",
              "      <th>% of party (Rep)</th>\n",
              "      <th>Democratic</th>\n",
              "      <th>% of women (Dem)</th>\n",
              "      <th>% of party (Dem)</th>\n",
              "    </tr>\n",
              "  </thead>\n",
              "  <tbody>\n",
              "    <tr>\n",
              "      <th>26</th>\n",
              "      <td>91st</td>\n",
              "      <td>1969–1971</td>\n",
              "      <td>10</td>\n",
              "      <td>4</td>\n",
              "      <td>0.400</td>\n",
              "      <td>0.021</td>\n",
              "      <td>6</td>\n",
              "      <td>0.600</td>\n",
              "      <td>0.025</td>\n",
              "    </tr>\n",
              "    <tr>\n",
              "      <th>27</th>\n",
              "      <td>92nd</td>\n",
              "      <td>1971–1973</td>\n",
              "      <td>13</td>\n",
              "      <td>3</td>\n",
              "      <td>0.231</td>\n",
              "      <td>0.011</td>\n",
              "      <td>10</td>\n",
              "      <td>0.769</td>\n",
              "      <td>0.035</td>\n",
              "    </tr>\n",
              "    <tr>\n",
              "      <th>28</th>\n",
              "      <td>93rd</td>\n",
              "      <td>1973–1975</td>\n",
              "      <td>16</td>\n",
              "      <td>2</td>\n",
              "      <td>0.125</td>\n",
              "      <td>0.010</td>\n",
              "      <td>14</td>\n",
              "      <td>0.875</td>\n",
              "      <td>0.050</td>\n",
              "    </tr>\n",
              "    <tr>\n",
              "      <th>29</th>\n",
              "      <td>94th</td>\n",
              "      <td>1975–1977</td>\n",
              "      <td>19</td>\n",
              "      <td>5</td>\n",
              "      <td>0.263</td>\n",
              "      <td>0.028</td>\n",
              "      <td>14</td>\n",
              "      <td>0.737</td>\n",
              "      <td>0.048</td>\n",
              "    </tr>\n",
              "    <tr>\n",
              "      <th>30</th>\n",
              "      <td>95th</td>\n",
              "      <td>1977–1979</td>\n",
              "      <td>18</td>\n",
              "      <td>5</td>\n",
              "      <td>0.278</td>\n",
              "      <td>0.035</td>\n",
              "      <td>13</td>\n",
              "      <td>0.722</td>\n",
              "      <td>0.045</td>\n",
              "    </tr>\n",
              "  </tbody>\n",
              "</table>\n",
              "</div>"
            ],
            "text/plain": [
              "   Congress      Years  ...  % of women (Dem)  % of party (Dem)\n",
              "26     91st  1969–1971  ...             0.600             0.025\n",
              "27     92nd  1971–1973  ...             0.769             0.035\n",
              "28     93rd  1973–1975  ...             0.875             0.050\n",
              "29     94th  1975–1977  ...             0.737             0.048\n",
              "30     95th  1977–1979  ...             0.722             0.045\n",
              "\n",
              "[5 rows x 9 columns]"
            ]
          },
          "metadata": {
            "tags": []
          },
          "execution_count": 116
        }
      ]
    },
    {
      "cell_type": "code",
      "metadata": {
        "id": "2Qb_FrOJPb5g"
      },
      "source": [
        "#set up graph line variables\n",
        "rx = df_womenrep['Years']\n",
        "ry = df_womenrep['% of party (Rep)']\n",
        "dx = df_womenrep['Years']\n",
        "dy = df_womenrep['% of party (Dem)']"
      ],
      "execution_count": 117,
      "outputs": []
    },
    {
      "cell_type": "code",
      "metadata": {
        "colab": {
          "base_uri": "https://localhost:8080/",
          "height": 369
        },
        "id": "54PQOhrRWvZ6",
        "outputId": "aee962ec-a609-41cc-e454-2a5f405360cc"
      },
      "source": [
        "plt.figure(figsize=(10,5))\n",
        "plt.bar(rx, ry, width=0.4, color='r', align='edge', label= '% Republican Seats Held by Women')\n",
        "plt.bar(dx, dy, width=-0.4, color='b', align='edge', label= '% Democrat Seats Held by Women')\n",
        "plt.xticks(rotation=90)\n",
        "plt.xlim(-0.8, 24.8)\n",
        "plt.ylim(0.00, 0.35)\n",
        "plt.yticks([0.  , 0.05, 0.1 , 0.15, 0.2 , 0.25, 0.3 , 0.35], ['0%', '5%', '10%', '15%', '20%', '25%', '30%', '35%'])\n",
        "plt.xlabel('Session Years', fontsize=15)\n",
        "plt.ylabel('% of Party Seats Held by Women', fontsize=14)\n",
        "plt.legend(fontsize=13)\n",
        "plt.title('The Growing Disparity in the Percent of Women Representatives by Party', fontsize= 15);\n",
        "plt.tight_layout()\n",
        "plt.savefig('Womenrepinhouse.png')"
      ],
      "execution_count": 139,
      "outputs": [
        {
          "output_type": "display_data",
          "data": {
            "image/png": "[encoded data removed]",
            "text/plain": [
              "<Figure size 720x360 with 1 Axes>"
            ]
          },
          "metadata": {
            "tags": [],
            "needs_background": "light"
          }
        }
      ]
    },
    {
      "cell_type": "code",
      "metadata": {
        "id": "BDtyfGi2ZQcA"
      },
      "source": [
        ""
      ],
      "execution_count": 118,
      "outputs": []
    }
  ]
}